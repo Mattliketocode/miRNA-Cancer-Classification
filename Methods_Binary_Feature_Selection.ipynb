{
  "cells": [
    {
      "cell_type": "code",
      "execution_count": null,
      "metadata": {
        "id": "FJZ12Jnph8Yp"
      },
      "outputs": [],
      "source": [
        "import os\n",
        "import math\n",
        "import copy\n",
        "import shutil\n",
        "import tarfile\n",
        "import requests\n",
        "import statistics\n",
        "import numpy as np\n",
        "import pandas as pd\n",
        "import plotly.express as px\n",
        "from sklearn import metrics\n",
        "from sklearn.svm import SVC\n",
        "import matplotlib.pyplot as plt\n",
        "from sklearn import preprocessing\n",
        "from prettytable import PrettyTable\n",
        "from sklearn.pipeline import Pipeline\n",
        "from sklearn.decomposition import PCA\n",
        "from imblearn.over_sampling import SMOTE\n",
        "from sklearn.model_selection import KFold\n",
        "from sklearn_pandas import DataFrameMapper\n",
        "from sklearn.metrics import confusion_matrix\n",
        "from sklearn.preprocessing import StandardScaler\n",
        "from sklearn.neural_network import MLPClassifier\n",
        "from sklearn.neighbors import KNeighborsClassifier\n",
        "from sklearn.ensemble import RandomForestClassifier\n",
        "from sklearn.model_selection import cross_val_score\n",
        "from sklearn.model_selection import train_test_split\n",
        "from imblearn.over_sampling import BorderlineSMOTE, ADASYN\n",
        "from sklearn.metrics import precision_recall_fscore_support\n",
        "from sklearn.feature_selection import SelectKBest, chi2, mutual_info_classif, f_classif, VarianceThreshold"
      ]
    },
    {
      "cell_type": "code",
      "execution_count": null,
      "metadata": {
        "colab": {
          "base_uri": "https://localhost:8080/"
        },
        "id": "XAUWitMdiBJi",
        "outputId": "4dd6d80f-341e-43ed-f3f3-70285a11967c"
      },
      "outputs": [
        {
          "output_type": "stream",
          "name": "stdout",
          "text": [
            "Cloning into 'multiclass_mirna_model'...\n",
            "remote: Enumerating objects: 69, done.\u001b[K\n",
            "remote: Counting objects: 100% (18/18), done.\u001b[K\n",
            "remote: Compressing objects: 100% (18/18), done.\u001b[K\n",
            "remote: Total 69 (delta 4), reused 0 (delta 0), pack-reused 51\u001b[K\n",
            "Unpacking objects: 100% (69/69), 64.95 MiB | 5.07 MiB/s, done.\n",
            "Updating files: 100% (40/40), done.\n"
          ]
        }
      ],
      "source": [
        "!git clone https://github.com/Mattliketocode/multiclass_mirna_model.git"
      ]
    },
    {
      "cell_type": "code",
      "execution_count": null,
      "metadata": {
        "id": "IJuaTmSgiG5P"
      },
      "outputs": [],
      "source": [
        "file = tarfile.open('multiclass_mirna_model/breast.tar.gz')\n",
        "file.extractall('./breast')\n",
        "file.close()\n",
        "\n",
        "file = tarfile.open('multiclass_mirna_model/kidney.tar.gz')\n",
        "file.extractall('./kidney')\n",
        "file.close()\n",
        "\n",
        "file = tarfile.open('multiclass_mirna_model/corpus uteri.tar.gz')\n",
        "file.extractall('./corpus uteri')\n",
        "file.close()\n",
        "\n",
        "file = tarfile.open('multiclass_mirna_model/thyroid gland.tar.gz')\n",
        "file.extractall('./thyroid gland')\n",
        "file.close()\n",
        "\n",
        "file = tarfile.open('multiclass_mirna_model/bronchus and lung.tar.gz')\n",
        "file.extractall('./bronchus and lung')\n",
        "file.close()\n",
        "\n",
        "file = tarfile.open('multiclass_mirna_model/prostate gland.tar.gz')\n",
        "file.extractall('./prostate gland')\n",
        "file.close()\n",
        "\n",
        "file = tarfile.open('multiclass_mirna_model/brain.tar.gz')\n",
        "file.extractall('./brain')\n",
        "file.close()\n",
        "\n",
        "file = tarfile.open('multiclass_mirna_model/ovary.tar.gz')\n",
        "file.extractall('./ovary')\n",
        "file.close()\n",
        "\n",
        "file = tarfile.open('multiclass_mirna_model/stomach.tar.gz')\n",
        "file.extractall('./stomach')\n",
        "file.close()\n",
        "\n",
        "file = tarfile.open('multiclass_mirna_model/colon.tar.gz')\n",
        "file.extractall('./colon')\n",
        "file.close()\n",
        "\n",
        "file = tarfile.open('multiclass_mirna_model/skin.tar.gz')\n",
        "file.extractall('./skin')\n",
        "file.close()\n",
        "\n",
        "file = tarfile.open('multiclass_mirna_model/bladder.tar.gz')\n",
        "file.extractall('./bladder')\n",
        "file.close()\n",
        "\n",
        "file = tarfile.open('multiclass_mirna_model/liver and intrahepatic bile ducts.tar.gz')\n",
        "file.extractall('./liver and intrahepatic bile ducts')\n",
        "file.close()\n",
        "\n",
        "file = tarfile.open('multiclass_mirna_model/cervix uteri.tar.gz')\n",
        "file.extractall('./cervix uteri')\n",
        "file.close()\n",
        "\n",
        "file = tarfile.open('multiclass_mirna_model/soft tissue.tar.gz')\n",
        "file.extractall('./soft tissue')\n",
        "file.close()\n",
        "\n",
        "file = tarfile.open('multiclass_mirna_model/retroperitoneal and peritoneum.tar.gz')\n",
        "file.extractall('./retroperitoneal and peritoneum')\n",
        "file.close()\n",
        "\n",
        "file = tarfile.open('multiclass_mirna_model/esophagus.tar.gz')\n",
        "file.extractall('./esophagus')\n",
        "file.close()\n",
        "\n",
        "file = tarfile.open('multiclass_mirna_model/adrenal gland.tar.gz')\n",
        "file.extractall('./adrenal gland')\n",
        "file.close()\n",
        "\n",
        "file = tarfile.open('multiclass_mirna_model/pancreas.tar.gz')\n",
        "file.extractall('./pancreas')\n",
        "file.close()\n",
        "\n",
        "file = tarfile.open('multiclass_mirna_model/testis.tar.gz')\n",
        "file.extractall('./testis')\n",
        "file.close()"
      ]
    },
    {
      "cell_type": "markdown",
      "metadata": {
        "id": "3xMEtW2ZCCfS"
      },
      "source": [
        "# Load Data"
      ]
    },
    {
      "cell_type": "code",
      "execution_count": null,
      "metadata": {
        "id": "5pXaHcYZib1K"
      },
      "outputs": [],
      "source": [
        " def clean_data(path, csv_path, n_of_samples, class_number):\n",
        "\n",
        "  manifest_path = path + '/MANIFEST.txt'\n",
        "  os.remove(manifest_path)\n",
        "\n",
        "  dir_list_0 = os.listdir(path)\n",
        "\n",
        "  for i in range(0, n_of_samples):\n",
        "    old_path = path + '/' + dir_list_0[i]\n",
        "    old_file = os.listdir(old_path)\n",
        "\n",
        "    for j in range(len(old_file)-1):\n",
        "      if old_file[j] == 'annotations.txt':\n",
        "        old_file.remove(old_file[j])\n",
        "\n",
        "    old_file_path = old_path + '/' + old_file[0]\n",
        "\n",
        "    shutil.move(old_file_path, path)\n",
        "    shutil.rmtree(old_path)\n",
        "\n",
        "  dir_list = os.listdir(path)\n",
        "\n",
        "  data = []\n",
        "  labels = []\n",
        "\n",
        "  csv_path = 'multiclass_mirna_model' + '/' + csv_path\n",
        "  input_arr = np.loadtxt(csv_path, dtype='str', delimiter=',')\n",
        "  for i in range(0, n_of_samples):\n",
        "      for j in range(0, n_of_samples):\n",
        "\n",
        "          if input_arr[i][0] == dir_list[j]:\n",
        "              f_path = path + '/' + dir_list[j]\n",
        "              input_arr2 = np.genfromtxt(f_path, dtype='str', delimiter='\\t')\n",
        "              labels.append(input_arr[i][1])\n",
        "              data.append(input_arr2)\n",
        "\n",
        "  y_full = []\n",
        "  for x in range(len(labels)):\n",
        "      if labels[x] == \"Solid Tissue Normal\":\n",
        "          y_full.append(0)  ##0\n",
        "      else:\n",
        "          y_full.append(1)  ##1\n",
        "\n",
        "  x_full = []\n",
        "\n",
        "  data_copy = list(data)\n",
        "\n",
        "  miRNA_labels = []\n",
        "  flag = 0\n",
        "\n",
        "  for i in range(len(data_copy)):\n",
        "      data_copy[i] = list(data_copy[i])\n",
        "      data_copy[i].pop(0)\n",
        "      for j in range(len(data_copy[i])):\n",
        "          data_copy[i][j] = list(data_copy[i][j])\n",
        "          if flag == 0:\n",
        "            miRNA_labels.append(data_copy[i][j][0])\n",
        "          data_copy[i][j].pop(0)\n",
        "\n",
        "          data_copy[i][j][1] = float(data_copy[i][j][1])\n",
        "          data_copy[i][j].pop(0)\n",
        "          data_copy[i][j].pop(1)\n",
        "      flag = 1\n",
        "\n",
        "  for x in miRNA_labels:\n",
        "    x = str(x)\n",
        "\n",
        "  data_copy_2 = data_copy\n",
        "  for i in range(len(data_copy)):\n",
        "      data_copy_2[i] = np.resize(data_copy_2[i], 1881)\n",
        "\n",
        "  x_full = data_copy_2\n",
        "\n",
        "  return x_full, y_full, miRNA_labels"
      ]
    },
    {
      "cell_type": "code",
      "execution_count": null,
      "metadata": {
        "id": "YJCxd9FHihtB"
      },
      "outputs": [],
      "source": [
        "path = \"./breast\"\n",
        "csv_path = \"breast.csv\"\n",
        "n_of_samples = 1207\n",
        "class_number = 1\n",
        "breast_x, breast_y, labels = clean_data(path, csv_path, n_of_samples, class_number)\n",
        "\n",
        "path = \"./kidney\"\n",
        "csv_path = \"kidney.csv\"\n",
        "n_of_samples = 616\n",
        "class_number = 2\n",
        "kidney_x, kidney_y, labels = clean_data(path, csv_path, n_of_samples, class_number)\n",
        "\n",
        "path = \"./corpus uteri\"\n",
        "csv_path = \"corpus uteri.csv\"\n",
        "n_of_samples = 568\n",
        "class_number = 3\n",
        "corpus_uteri_x, corpus_uteri_y, labels = clean_data(path, csv_path, n_of_samples, class_number)\n",
        "\n",
        "path = \"./thyroid gland\"\n",
        "csv_path = \"thyroid gland.csv\"\n",
        "n_of_samples = 573\n",
        "class_number = 4\n",
        "thyroid_gland_x, thyroid_gland_y, labels = clean_data(path, csv_path, n_of_samples, class_number)\n",
        "\n",
        "path = \"./bronchus and lung\"\n",
        "csv_path = \"bronchus and lung.csv\"\n",
        "n_of_samples = 567\n",
        "class_number = 5\n",
        "bronchus_and_lung_x, bronchus_and_lung_y, labels = clean_data(path, csv_path, n_of_samples, class_number)\n",
        "\n",
        "path = \"./prostate gland\"\n",
        "csv_path = \"prostate gland.csv\"\n",
        "n_of_samples = 551\n",
        "class_number = 6\n",
        "prostate_gland_x, prostate_gland_y, labels = clean_data(path, csv_path, n_of_samples, class_number)\n",
        "\n",
        "path = \"./brain\"\n",
        "csv_path = \"brain.csv\"\n",
        "n_of_samples = 530\n",
        "class_number = 7\n",
        "brain_x, brain_y, labels = clean_data(path, csv_path, n_of_samples, class_number)\n",
        "\n",
        "path = \"./ovary\"\n",
        "csv_path = \"ovary.csv\"\n",
        "n_of_samples = 499\n",
        "class_number = 8\n",
        "ovary_x, ovary_y, labels = clean_data(path, csv_path, n_of_samples, class_number)\n",
        "\n",
        "path = \"./stomach\"\n",
        "csv_path = \"stomach.csv\"\n",
        "n_of_samples = 491\n",
        "class_number = 9\n",
        "stomach_x, stomach_y, labels = clean_data(path, csv_path, n_of_samples, class_number)\n",
        "\n",
        "path = \"./colon\"\n",
        "csv_path = \"colon.csv\"\n",
        "n_of_samples = 458\n",
        "class_number = 10\n",
        "colon_x, colon_y, labels = clean_data(path, csv_path, n_of_samples, class_number)\n",
        "\n",
        "path = \"./skin\"\n",
        "csv_path = \"skin.csv\"\n",
        "n_of_samples = 452\n",
        "class_number = 11\n",
        "skin_x, skin_y, labels = clean_data(path, csv_path, n_of_samples, class_number)\n",
        "\n",
        "path = \"./bladder\"\n",
        "csv_path = \"bladder.csv\"\n",
        "n_of_samples = 437\n",
        "class_number = 12\n",
        "bladder_x, bladder_y, labels = clean_data(path, csv_path, n_of_samples, class_number)\n",
        "\n",
        "path = \"./liver and intrahepatic bile ducts\"\n",
        "csv_path = \"liver and intrahepatic bile ducts.csv\"\n",
        "n_of_samples = 425\n",
        "class_number = 13\n",
        "liver_and_intrahepatic_bile_ducts_x, liver_and_intrahepatic_bile_ducts_y, labels = clean_data(path, csv_path, n_of_samples, class_number)\n",
        "\n",
        "path = \"./cervix uteri\"\n",
        "csv_path = \"cervix uteri.csv\"\n",
        "n_of_samples = 312\n",
        "class_number = 14\n",
        "cervix_uteri_x, cervix_uteri_y, labels = clean_data(path, csv_path, n_of_samples, class_number)\n",
        "\n",
        "path = \"./soft tissue\"\n",
        "csv_path = \"soft tissue.csv\"\n",
        "n_of_samples = 118\n",
        "class_number = 15\n",
        "soft_tissue_x, soft_tissue_y, labels = clean_data(path, csv_path, n_of_samples, class_number)\n",
        "\n",
        "path = \"./retroperitoneal and peritoneum\"\n",
        "csv_path = \"retroperitoneal and peritoneum.csv\"\n",
        "n_of_samples = 101\n",
        "class_number = 16\n",
        "retroperitoneal_and_peritoneum_x, retroperitoneal_and_peritoneum_y, labels = clean_data(path, csv_path, n_of_samples, class_number)\n",
        "\n",
        "path = \"./esophagus\"\n",
        "csv_path = \"esophagus.csv\"\n",
        "n_of_samples = 198\n",
        "class_number = 17\n",
        "esophagus_x, esophagus_y, labels = clean_data(path, csv_path, n_of_samples, class_number)\n",
        "\n",
        "path = \"./adrenal gland\"\n",
        "csv_path = \"adrenal gland.csv\"\n",
        "n_of_samples = 154\n",
        "class_number = 18\n",
        "adrenal_gland_x, adrenal_gland_y, labels = clean_data(path, csv_path, n_of_samples, class_number)\n",
        "\n",
        "path = \"./pancreas\"\n",
        "csv_path = \"pancreas.csv\"\n",
        "n_of_samples = 183\n",
        "class_number = 19\n",
        "pancreas_x, pancreas_y, labels = clean_data(path, csv_path, n_of_samples, class_number)\n",
        "\n",
        "path = \"./testis\"\n",
        "csv_path = \"testis.csv\"\n",
        "n_of_samples = 156\n",
        "class_number = 20\n",
        "testis_x, testis_y, labels = clean_data(path, csv_path, n_of_samples, class_number)\n",
        "\n",
        "data_x = copy.deepcopy(breast_x + kidney_x + corpus_uteri_x + thyroid_gland_x + bronchus_and_lung_x + prostate_gland_x + brain_x + ovary_x + stomach_x + colon_x + skin_x + bladder_x + liver_and_intrahepatic_bile_ducts_x + cervix_uteri_x + soft_tissue_x + retroperitoneal_and_peritoneum_x + esophagus_x + adrenal_gland_x + pancreas_x + testis_x)\n",
        "data_y = copy.deepcopy(breast_y + kidney_y + corpus_uteri_y + thyroid_gland_y + bronchus_and_lung_y + prostate_gland_y + brain_y + ovary_y + stomach_y + colon_y + skin_y + bladder_y + liver_and_intrahepatic_bile_ducts_y + cervix_uteri_y + soft_tissue_y + retroperitoneal_and_peritoneum_y + esophagus_y + adrenal_gland_y + pancreas_y + testis_y)"
      ]
    },
    {
      "cell_type": "markdown",
      "metadata": {
        "id": "qLUJPiWVCKr5"
      },
      "source": [
        "# Data Preprocessing"
      ]
    },
    {
      "cell_type": "code",
      "execution_count": null,
      "metadata": {
        "id": "82jboBnpkZt6"
      },
      "outputs": [],
      "source": [
        "def myTransform(x):\n",
        "  return np.log2(x+1)"
      ]
    },
    {
      "cell_type": "code",
      "execution_count": null,
      "metadata": {
        "id": "905Wn_Q4kGLX"
      },
      "outputs": [],
      "source": [
        "def standardize(x, labels):\n",
        "  x_df = pd.DataFrame(data=x, columns=labels)\n",
        "  x_df = x_df.applymap(myTransform)\n",
        "\n",
        "  mapper = DataFrameMapper([(x_df.columns, StandardScaler())])\n",
        "  scaled_features = mapper.fit_transform(x_df.copy(), 1881)\n",
        "  scaled_features_df = pd.DataFrame(scaled_features, index=x_df.index, columns=x_df.columns)\n",
        "\n",
        "  return scaled_features_df"
      ]
    },
    {
      "cell_type": "code",
      "execution_count": null,
      "metadata": {
        "id": "LattasO5kbZ-"
      },
      "outputs": [],
      "source": [
        "def log_standardize(x):\n",
        "  input_array = x\n",
        "  for i in range(len(input_array)):\n",
        "    for j in range(len(input_array[i])):\n",
        "      input_array[i][j] = math.log2(input_array[i][j] + 1)\n",
        "\n",
        "  return input_array"
      ]
    },
    {
      "cell_type": "code",
      "execution_count": null,
      "metadata": {
        "id": "8HoG13fNkd1l"
      },
      "outputs": [],
      "source": [
        "feature_extraction_x = standardize(copy.deepcopy(data_x), labels)\n",
        "feature_extraction_y = copy.deepcopy(data_y)"
      ]
    },
    {
      "cell_type": "code",
      "source": [
        "x = log_standardize(copy.deepcopy(breast_x))\n",
        "y = copy.deepcopy(breast_y)"
      ],
      "metadata": {
        "id": "PaoutfEfhca6"
      },
      "execution_count": null,
      "outputs": []
    },
    {
      "cell_type": "code",
      "source": [
        "x_2 = log_standardize(copy.deepcopy(thyroid_gland_x))\n",
        "y_2 = copy.deepcopy(thyroid_gland_y)"
      ],
      "metadata": {
        "id": "m0EdoMPDCBFg"
      },
      "execution_count": null,
      "outputs": []
    },
    {
      "cell_type": "markdown",
      "source": [
        "# Top 20 Feature Selection"
      ],
      "metadata": {
        "id": "9mIe5IuWW9hp"
      }
    },
    {
      "cell_type": "code",
      "source": [
        "def extract_features(x_df, y, number_of_features):\n",
        "\n",
        "  #remove zeros accross all samples\n",
        "  selector_1 = VarianceThreshold()\n",
        "  selector_1.fit_transform(x_df)\n",
        "  x = x_df.columns[selector_1.get_support()]\n",
        "\n",
        "  x_df = selector_1.fit_transform(x_df)\n",
        "  x_df = pd.DataFrame(data=x_df, columns=x)\n",
        "\n",
        "  selector = SelectKBest(mutual_info_classif, k=number_of_features)\n",
        "  selector.fit_transform(x_df, y)\n",
        "  top_features = x_df.columns[selector.get_support()]\n",
        "\n",
        "  x = PrettyTable()\n",
        "  x.add_column('Feature', top_features)\n",
        "  #print(x)\n",
        "  return top_features"
      ],
      "metadata": {
        "id": "MGywnJKPblX_"
      },
      "execution_count": null,
      "outputs": []
    },
    {
      "cell_type": "code",
      "source": [
        "def clean_feature_extract(data_x, labels, top_10_features):\n",
        "  x_df = pd.DataFrame(data=data_x, columns=labels)\n",
        "\n",
        "  temp = []\n",
        "  for i in labels:\n",
        "    if i not in top_10_features:\n",
        "      temp.append(i)\n",
        "\n",
        "  x_df.drop(temp,axis=1,inplace=True)\n",
        "\n",
        "  x_features_ext = x_df.values\n",
        "\n",
        "  return(x_features_ext)"
      ],
      "metadata": {
        "id": "gsJ7nCtq86AP"
      },
      "execution_count": null,
      "outputs": []
    },
    {
      "cell_type": "code",
      "source": [
        "features = extract_features(feature_extraction_x, feature_extraction_y, 20)"
      ],
      "metadata": {
        "id": "9WyYFFb2bnAw"
      },
      "execution_count": null,
      "outputs": []
    },
    {
      "cell_type": "code",
      "source": [
        "print(features)"
      ],
      "metadata": {
        "colab": {
          "base_uri": "https://localhost:8080/"
        },
        "id": "IsJ8lX-jboY2",
        "outputId": "a439eeb6-9bf3-48f0-caa7-2c69d1946518"
      },
      "execution_count": null,
      "outputs": [
        {
          "output_type": "stream",
          "name": "stdout",
          "text": [
            "Index(['hsa-mir-106b', 'hsa-mir-10b', 'hsa-mir-1258', 'hsa-mir-1301',\n",
            "       'hsa-mir-130b', 'hsa-mir-139', 'hsa-mir-141', 'hsa-mir-145',\n",
            "       'hsa-mir-182', 'hsa-mir-183', 'hsa-mir-195', 'hsa-mir-21',\n",
            "       'hsa-mir-210', 'hsa-mir-301b', 'hsa-mir-4746', 'hsa-mir-769',\n",
            "       'hsa-mir-7706', 'hsa-mir-93', 'hsa-mir-937', 'hsa-mir-96'],\n",
            "      dtype='object')\n"
          ]
        }
      ]
    },
    {
      "cell_type": "code",
      "source": [
        "x = clean_feature_extract(x, labels, features)"
      ],
      "metadata": {
        "id": "Kd4dApGm89VG"
      },
      "execution_count": null,
      "outputs": []
    },
    {
      "cell_type": "code",
      "source": [
        "x_2 = clean_feature_extract(x_2, labels, features)"
      ],
      "metadata": {
        "id": "_VP-bmHUCZPm"
      },
      "execution_count": null,
      "outputs": []
    },
    {
      "cell_type": "markdown",
      "source": [
        "# Classifiers"
      ],
      "metadata": {
        "id": "iL8oMYNT89tz"
      }
    },
    {
      "cell_type": "markdown",
      "source": [
        "## Breast Cancer"
      ],
      "metadata": {
        "id": "c6Wd-hBRCd9b"
      }
    },
    {
      "cell_type": "code",
      "source": [
        "clf = RandomForestClassifier(n_estimators=200)\n",
        "pipeline = Pipeline(steps = [['scaler', StandardScaler()],\n",
        "                                ['classifier', clf]])\n",
        "\n",
        "cv = KFold(n_splits=5, shuffle=True)\n",
        "\n",
        "accuracy = cross_val_score(pipeline, x, y, cv = cv)\n",
        "precision = cross_val_score(pipeline, x, y, cv = cv, scoring='precision_macro')\n",
        "recall = cross_val_score(pipeline, x, y, cv = cv, scoring='recall_macro')"
      ],
      "metadata": {
        "id": "WKg-BPWlhubf"
      },
      "execution_count": null,
      "outputs": []
    },
    {
      "cell_type": "code",
      "source": [
        "print(statistics.mean(accuracy))"
      ],
      "metadata": {
        "colab": {
          "base_uri": "https://localhost:8080/"
        },
        "id": "l_UZv684hwAG",
        "outputId": "28a54e56-7211-4be5-8a61-56551fcf5aa9"
      },
      "execution_count": null,
      "outputs": [
        {
          "output_type": "stream",
          "name": "stdout",
          "text": [
            "0.9908850862453277\n"
          ]
        }
      ]
    },
    {
      "cell_type": "code",
      "source": [
        "print(statistics.mean(precision))"
      ],
      "metadata": {
        "colab": {
          "base_uri": "https://localhost:8080/"
        },
        "id": "AOFCPOCshwKz",
        "outputId": "6ee8479b-4f7a-4f8b-97f3-521652a86f4e"
      },
      "execution_count": null,
      "outputs": [
        {
          "output_type": "stream",
          "name": "stdout",
          "text": [
            "0.9827229518825994\n"
          ]
        }
      ]
    },
    {
      "cell_type": "code",
      "source": [
        "print(statistics.mean(recall))"
      ],
      "metadata": {
        "colab": {
          "base_uri": "https://localhost:8080/"
        },
        "id": "N6sDtQaXhwnv",
        "outputId": "bda95f0e-50b8-4f7e-d353-0515a4efed83"
      },
      "execution_count": null,
      "outputs": [
        {
          "output_type": "stream",
          "name": "stdout",
          "text": [
            "0.9605897832817337\n"
          ]
        }
      ]
    },
    {
      "cell_type": "code",
      "source": [
        "clf = SVC(kernel=\"linear\")\n",
        "pipeline = Pipeline(steps = [['scaler', StandardScaler()],\n",
        "                                ['classifier', clf]])\n",
        "\n",
        "cv = KFold(n_splits=5, shuffle=True)\n",
        "\n",
        "accuracy = cross_val_score(pipeline, x, y, cv = cv)\n",
        "precision = cross_val_score(pipeline, x, y, cv = cv, scoring='precision_macro')\n",
        "recall = cross_val_score(pipeline, x, y, cv = cv, scoring='recall_macro')"
      ],
      "metadata": {
        "id": "3pW7JBbkhw1z"
      },
      "execution_count": null,
      "outputs": []
    },
    {
      "cell_type": "code",
      "source": [
        "print(statistics.mean(accuracy))"
      ],
      "metadata": {
        "colab": {
          "base_uri": "https://localhost:8080/"
        },
        "id": "5NzkWDDqhxEA",
        "outputId": "031e574f-2914-4bed-a26e-e389d9d56f6e"
      },
      "execution_count": null,
      "outputs": [
        {
          "output_type": "stream",
          "name": "stdout",
          "text": [
            "0.9892356229210246\n"
          ]
        }
      ]
    },
    {
      "cell_type": "code",
      "source": [
        "print(statistics.mean(precision))"
      ],
      "metadata": {
        "colab": {
          "base_uri": "https://localhost:8080/"
        },
        "id": "Fu7bcGEvhxQm",
        "outputId": "a28fb29a-a7d0-492c-9477-eae7980e5405"
      },
      "execution_count": null,
      "outputs": [
        {
          "output_type": "stream",
          "name": "stdout",
          "text": [
            "0.9645323239490936\n"
          ]
        }
      ]
    },
    {
      "cell_type": "code",
      "source": [
        "print(statistics.mean(recall))"
      ],
      "metadata": {
        "colab": {
          "base_uri": "https://localhost:8080/"
        },
        "id": "Y-_-_p33hxyC",
        "outputId": "5ef9a524-3f8d-45fb-a3af-e76de9ca242c"
      },
      "execution_count": null,
      "outputs": [
        {
          "output_type": "stream",
          "name": "stdout",
          "text": [
            "0.9585015665479072\n"
          ]
        }
      ]
    },
    {
      "cell_type": "markdown",
      "source": [
        "## Thyroid Cancer"
      ],
      "metadata": {
        "id": "giRlmhjdCkQR"
      }
    },
    {
      "cell_type": "code",
      "source": [
        "clf = RandomForestClassifier(n_estimators=200)\n",
        "pipeline = Pipeline(steps = [['scaler', StandardScaler()],\n",
        "                                ['classifier', clf]])\n",
        "\n",
        "cv = KFold(n_splits=5, shuffle=True)\n",
        "\n",
        "accuracy = cross_val_score(pipeline, x_2, y_2, cv = cv)\n",
        "precision = cross_val_score(pipeline, x_2, y_2, cv = cv, scoring='precision_macro')\n",
        "recall = cross_val_score(pipeline, x_2, y_2, cv = cv, scoring='recall_macro')"
      ],
      "metadata": {
        "id": "yIwhjrhjCnNG"
      },
      "execution_count": null,
      "outputs": []
    },
    {
      "cell_type": "code",
      "source": [
        "print(statistics.mean(accuracy))"
      ],
      "metadata": {
        "colab": {
          "base_uri": "https://localhost:8080/"
        },
        "id": "r4zjLGRPCov9",
        "outputId": "aa160dcd-1a01-41d4-f237-5de64fdbfb90"
      },
      "execution_count": null,
      "outputs": [
        {
          "output_type": "stream",
          "name": "stdout",
          "text": [
            "0.9616323417238749\n"
          ]
        }
      ]
    },
    {
      "cell_type": "code",
      "source": [
        "print(statistics.mean(precision))"
      ],
      "metadata": {
        "colab": {
          "base_uri": "https://localhost:8080/"
        },
        "id": "rhrcHn0ECo8g",
        "outputId": "d211553c-f7a3-40ea-8765-a8cbc65fe275"
      },
      "execution_count": null,
      "outputs": [
        {
          "output_type": "stream",
          "name": "stdout",
          "text": [
            "0.9437254230688202\n"
          ]
        }
      ]
    },
    {
      "cell_type": "code",
      "source": [
        "print(statistics.mean(recall))"
      ],
      "metadata": {
        "colab": {
          "base_uri": "https://localhost:8080/"
        },
        "id": "DZ9slVj4CpH4",
        "outputId": "770412f7-e595-4f25-9209-7a1fadb4e109"
      },
      "execution_count": null,
      "outputs": [
        {
          "output_type": "stream",
          "name": "stdout",
          "text": [
            "0.883898427275476\n"
          ]
        }
      ]
    },
    {
      "cell_type": "code",
      "source": [
        "clf = SVC(kernel=\"linear\")\n",
        "pipeline = Pipeline(steps = [['scaler', StandardScaler()],\n",
        "                                ['classifier', clf]])\n",
        "\n",
        "cv = KFold(n_splits=5, shuffle=True)\n",
        "\n",
        "accuracy = cross_val_score(pipeline, x_2, y_2, cv = cv)\n",
        "precision = cross_val_score(pipeline, x_2, y_2, cv = cv, scoring='precision_macro')\n",
        "recall = cross_val_score(pipeline, x_2, y_2, cv = cv, scoring='recall_macro')"
      ],
      "metadata": {
        "id": "ASLVi91FCpbL"
      },
      "execution_count": null,
      "outputs": []
    },
    {
      "cell_type": "code",
      "source": [
        "print(statistics.mean(accuracy))"
      ],
      "metadata": {
        "colab": {
          "base_uri": "https://localhost:8080/"
        },
        "id": "ZMEilPLlCppS",
        "outputId": "bb5d10e2-1607-4cc3-c8d2-35e3a22dd160"
      },
      "execution_count": null,
      "outputs": [
        {
          "output_type": "stream",
          "name": "stdout",
          "text": [
            "0.9668649885583523\n"
          ]
        }
      ]
    },
    {
      "cell_type": "code",
      "source": [
        "print(statistics.mean(precision))"
      ],
      "metadata": {
        "colab": {
          "base_uri": "https://localhost:8080/"
        },
        "id": "qyWPO9Y8Cp3f",
        "outputId": "2d9fe947-3296-4289-d2c7-3087450745f8"
      },
      "execution_count": null,
      "outputs": [
        {
          "output_type": "stream",
          "name": "stdout",
          "text": [
            "0.9151647914240719\n"
          ]
        }
      ]
    },
    {
      "cell_type": "code",
      "source": [
        "print(statistics.mean(recall))"
      ],
      "metadata": {
        "colab": {
          "base_uri": "https://localhost:8080/"
        },
        "id": "7MVJFSHACqC3",
        "outputId": "b4a09d1d-a954-4957-8836-588c0d914d84"
      },
      "execution_count": null,
      "outputs": [
        {
          "output_type": "stream",
          "name": "stdout",
          "text": [
            "0.9164208783702907\n"
          ]
        }
      ]
    }
  ],
  "metadata": {
    "colab": {
      "provenance": [],
      "toc_visible": true
    },
    "kernelspec": {
      "display_name": "Python 3",
      "name": "python3"
    },
    "language_info": {
      "name": "python"
    }
  },
  "nbformat": 4,
  "nbformat_minor": 0
}